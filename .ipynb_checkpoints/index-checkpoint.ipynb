{
 "cells": [
  {
   "cell_type": "markdown",
   "metadata": {},
   "source": [
    "# Introduction to Jupyter for teachers"
   ]
  },
  {
   "cell_type": "markdown",
   "metadata": {},
   "source": [
    "## This is Jupyter\n",
    "This is a Jupyter Notebook. You can combine code and output in the same view as student instructions written in markdown!"
   ]
  },
  {
   "cell_type": "markdown",
   "metadata": {},
   "source": [
    "#### Markdown\n",
    "1. Select this cell.\n",
    "2. Press __Enter__ or __double click__ it.\n",
    "3. Get that what you see now is _unrendered markdown_.\n",
    "4. Press __Shift$\\to$Enter__.\n",
    "5. Get that what you see now is _rendered markdown_.\n",
    "\n",
    "Markdown is great, you will learn more later in the [markdown demo](technical-demos/markdown.ipynb)."
   ]
  },
  {
   "cell_type": "markdown",
   "metadata": {},
   "source": [
    "#### Code"
   ]
  },
  {
   "cell_type": "code",
   "execution_count": null,
   "metadata": {},
   "outputs": [],
   "source": [
    "# 1. Select this cell.\n",
    "# 2. Press Shift + Enter.\n",
    "# 3. Adjust my_function and press Shift + Enter.\n",
    "\n",
    "def my_function(x):\n",
    "    # TODO: Adjust this function to return the square of x\n",
    "    return x + 3\n",
    "\n",
    "# Try my_function\n",
    "print(my_function(1))\n",
    "print(my_function(2))\n",
    "print(my_function(3))\n",
    "print(my_function(4))"
   ]
  },
  {
   "cell_type": "code",
   "execution_count": null,
   "metadata": {},
   "outputs": [],
   "source": [
    "# 1. Verify you did as instruted.\n",
    "assert my_function(5) == 25, \"Your function did not return the correct square of 5!\"\n",
    "assert my_function(10) == 100, \"Your function did not return the correct square of 10!\"\n",
    "\n",
    "print(\"Well done -- seems okay!\")"
   ]
  },
  {
   "cell_type": "markdown",
   "metadata": {},
   "source": [
    "## Your journey\n",
    "If, and how, you will use Jupyter to teach, is up to you. This guide aims to help you to learn what you need in order to accomplish what you want."
   ]
  },
  {
   "cell_type": "markdown",
   "metadata": {},
   "source": [
    "### Section 1 - Learn\n",
    "If you are to teach using Jupyter, it might be good to experience being taught with Jupyter first. In this first step you will learn about Jupyter and basic Python programming by completing some assignments.\n",
    "\n",
    "#### Assignments\n",
    "- Jupyter basics\n",
    "    - Markdown / Code cells\n",
    "    - Server- / Client-side code\n",
    "    - Presentations, assignments, workshops\n",
    "    - ...\n",
    "- Python basics\n",
    "    - Variables\n",
    "    - Conditional statements\n",
    "    - ..."
   ]
  },
  {
   "cell_type": "markdown",
   "metadata": {},
   "source": [
    "### Section 2 - Teach\n",
    "Now you've experienced being a student, it's time to learn how to use Jupyter to teach. This sections covers three use cases,\n",
    "\n",
    "#### Prerequisites\n",
    "- MyBinder.org\n",
    "- NbGitPuller\n",
    "\n",
    "#### Guides\n",
    "1. Lectures and lecture notes\n",
    "2. Workshops\n",
    "3. Assignments"
   ]
  },
  {
   "cell_type": "markdown",
   "metadata": {},
   "source": [
    "### Section 3 - Create\n",
    "Producing your own is more challenging.\n",
    "\n",
    "#### Prerequisites\n",
    "- Git\n",
    "\n",
    "#### Guides\n",
    "1. "
   ]
  },
  {
   "cell_type": "markdown",
   "metadata": {},
   "source": [
    "## \n",
    "Help students utilize Jupyter Notebook"
   ]
  },
  {
   "cell_type": "markdown",
   "metadata": {},
   "source": [
    "## Demos\n",
    "#### Pedagogical demos\n",
    "- [__Lectures and lecture notes__](pedagogical-demos/lectures-and-lecture-notes.ipynb)\n",
    "- [__Workshops__](pedagogical-demos/workshops.ipynb)\n",
    "- [__Student notes__](pedagogical-demos/student-notes.ipynb)\n",
    "- [__Assignments__](pedagogical-demos/assignments.ipynb)\n",
    "\n",
    "#### Techincal demos for teachers\n",
    "Learn more details about various aspects.\n",
    "\n",
    "- [__Jupyter basics__](technical-demos/jupyter.ipynb)\n",
    "- [Jupyter as power points](technical-demos/rise.ipynb)\n",
    "- [Jupyter as a code editor](technical-demos/ide.ipynb)\n",
    "- [Jupyter as a text editor](technical-demos/markdown.ipynb)\n",
    "- [Jupyter with symbolic math](technical-demos/sympy.ipynb)\n",
    "- [Jupyter with graphs - Plotly](technical-demos/plotly.ipynb)\n",
    "- [Jupyter with interactivity - IPyWidgets](technical-demos/ipywidgets.ipynb)\n",
    "- [Jupyter with 3D-simulations - IPyVolume](technical-demos/ipyvolume.ipynb)\n",
    "- [MyBinder.org - Temporary free no-login hosting](technical-demos/mybinder.ipynb)\n",
    "- [notebooks.azure.com - Free hosting](technical-demos/azure.ipynb)\n",
    "\n",
    "#### Techincal demos for teachers with access to a JupyterHub\n",
    "- [NbGitPuller](technical-demos/nbgitpuller.ipynb)\n",
    "\n",
    "#### Technical demos for administrators\n",
    "- [JupyterHub](technical-demos/jupyterhub.ipynb)\n",
    "- [Docker](technical-demos/docker.ipynb)"
   ]
  },
  {
   "cell_type": "markdown",
   "metadata": {},
   "source": [
    "## Appendix\n",
    "\n",
    "#### FAQ\n",
    "\n",
    "#### Contribute\n",
    "Familiar with [GitHub](https://github.com)? You can communicate potential improvents by creating an _Issue_ (easy) or make an improvement yourself and submitting a _Pull Request_ (advanced) at [this guides GitHub repository](https://github.com/consideRatio/intro-to-jupyter-for-teachers)."
   ]
  },
  {
   "cell_type": "code",
   "execution_count": null,
   "metadata": {
    "collapsed": true
   },
   "outputs": [],
   "source": []
  }
 ],
 "metadata": {
  "kernelspec": {
   "display_name": "Python 3",
   "language": "python",
   "name": "python3"
  },
  "language_info": {
   "codemirror_mode": {
    "name": "ipython",
    "version": 3
   },
   "file_extension": ".py",
   "mimetype": "text/x-python",
   "name": "python",
   "nbconvert_exporter": "python",
   "pygments_lexer": "ipython3",
   "version": "3.6.1"
  }
 },
 "nbformat": 4,
 "nbformat_minor": 2
}
