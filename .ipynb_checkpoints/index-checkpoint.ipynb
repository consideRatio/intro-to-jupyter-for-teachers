{
 "cells": [
  {
   "cell_type": "markdown",
   "metadata": {},
   "source": [
    "# Introduction to the Jupyter ecosystem for teachers\n",
    "## About\n",
    "This guide is meant to introduce teachers to Jupyter Notebooks. It is maintained by Erik Sundell."
   ]
  },
  {
   "cell_type": "markdown",
   "metadata": {},
   "source": [
    "## Micro introduction\n",
    "This is a markdown cell, you can edit it by double clicking it and get back from edit mode by clicking __Shift$\\to$Enter__. In markdown you can write matematical expressings using LaTeX like $\\int_{a}^{b} x^2 dx$ and insert images and a lot more."
   ]
  },
  {
   "cell_type": "code",
   "execution_count": 5,
   "metadata": {},
   "outputs": [
    {
     "name": "stdout",
     "output_type": "stream",
     "text": [
      "0\n",
      "1\n",
      "4\n",
      "9\n",
      "16\n"
     ]
    }
   ],
   "source": [
    "# This is a code cell. Run it by pressing Shift+Enter and view its output.\n",
    "\n",
    "for i in range(5):\n",
    "    print(i*i)"
   ]
  },
  {
   "cell_type": "markdown",
   "metadata": {},
   "source": [
    "## Demos\n",
    "### Pedagogical demos\n",
    "Learn practical examples on how you could use Jupyter in the classroom.\n",
    "### Techincal demos\n",
    "Learn about different aspects, one at the time."
   ]
  },
  {
   "cell_type": "markdown",
   "metadata": {},
   "source": [
    "## Contribute\n",
    "Familiar with [GitHub](https://github.com)? You can communicate potential improvents by creating an _Issue_ (easy) or make an improvement yourself and submitting a _Pull Request_ (advanced) at [this guides GitHub repository](https://github.com/consideRatio/intro-to-jupyter-for-teachers)."
   ]
  }
 ],
 "metadata": {
  "kernelspec": {
   "display_name": "Python 3",
   "language": "python",
   "name": "python3"
  },
  "language_info": {
   "codemirror_mode": {
    "name": "ipython",
    "version": 3
   },
   "file_extension": ".py",
   "mimetype": "text/x-python",
   "name": "python",
   "nbconvert_exporter": "python",
   "pygments_lexer": "ipython3",
   "version": "3.6.2"
  }
 },
 "nbformat": 4,
 "nbformat_minor": 2
}
