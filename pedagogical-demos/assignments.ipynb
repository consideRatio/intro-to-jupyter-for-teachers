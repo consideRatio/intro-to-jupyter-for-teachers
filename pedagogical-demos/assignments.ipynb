{
 "cells": [
  {
   "cell_type": "markdown",
   "metadata": {},
   "source": [
    "# Assignments\n",
    "\n",
    "## About\n",
    "What about giving students assignments with intructions inside a Jupyter Notebook? This pedagogical demo is the most complex one, as many aspects can be automated to a large degree.\n",
    "\n",
    "#### Distributing the notebooks to the students\n",
    "I recommend having a JupyterHub available to the students, and using NbGrader or NbGitPuller.\n",
    "\n",
    "#### Autograding\n",
    "I recommend using NbGrader tooling.\n",
    "\n",
    "#### Student submission of notebooks\n",
    "I recommend using NbGrader tooling.\n",
    "\n",
    "#### Feedback of student submissions\n",
    "I recommend using NbGrader tooling.\n",
    "\n",
    "... "
   ]
  },
  {
   "cell_type": "code",
   "execution_count": null,
   "metadata": {},
   "outputs": [],
   "source": []
  }
 ],
 "metadata": {
  "kernelspec": {
   "display_name": "Python 3",
   "language": "python",
   "name": "python3"
  },
  "language_info": {
   "codemirror_mode": {
    "name": "ipython",
    "version": 3
   },
   "file_extension": ".py",
   "mimetype": "text/x-python",
   "name": "python",
   "nbconvert_exporter": "python",
   "pygments_lexer": "ipython3",
   "version": "3.6.2"
  }
 },
 "nbformat": 4,
 "nbformat_minor": 2
}
