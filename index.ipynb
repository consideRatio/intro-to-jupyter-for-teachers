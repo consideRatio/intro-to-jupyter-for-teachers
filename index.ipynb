{
 "cells": [
  {
   "cell_type": "markdown",
   "metadata": {},
   "source": [
    "# Introduction to Jupyter for teachers\n",
    "## About\n",
    "A guide meant to get teachers started with Jupyter Notebooks."
   ]
  },
  {
   "cell_type": "markdown",
   "metadata": {},
   "source": [
    "## Micro introduction\n",
    "This is a Jupyter Notebook, and this is a Markdown cell. You can edit it by double clicking on it or pressing __Enter__ while it is selected. You get back from edit mode by clicking __Shift$\\to$Enter__.\n",
    "\n",
    "In markdown you can write matematical expressings using LaTeX like $\\int_{a}^{b} x^2 dx$, insert images and a lot more. You can even embed GeoGeobra examples inside a Jupyter Notebook."
   ]
  },
  {
   "cell_type": "code",
   "execution_count": 1,
   "metadata": {},
   "outputs": [
    {
     "name": "stdout",
     "output_type": "stream",
     "text": [
      "0\n",
      "1\n",
      "4\n",
      "9\n",
      "16\n"
     ]
    }
   ],
   "source": [
    "# This is a code cell.\n",
    "# - Select it and press Shift+Enter to run it!\n",
    "# - Make a change and run it again!\n",
    "\n",
    "for i in range(5):\n",
    "    print(i*i)"
   ]
  },
  {
   "cell_type": "markdown",
   "metadata": {},
   "source": [
    "## Demos\n",
    "#### Pedagogical demos\n",
    "- [__Lectures and lecture notes__](pedagogical-demos/lectures-and-lecture-notes.ipynb)\n",
    "- [__Workshops__](pedagogical-demos/workshops.ipynb)\n",
    "- [__Student notes__](pedagogical-demos/student-notes.ipynb)\n",
    "- [__Assignments__](pedagogical-demos/assignments.ipynb)\n",
    "\n",
    "#### Techincal demos for teachers\n",
    "Learn more details about various aspects.\n",
    "\n",
    "- [__Jupyter basics__](technical-demos/jupyter.ipynb)\n",
    "- [Jupyter as power points](technical-demos/rise.ipynb)\n",
    "- [Jupyter as a code editor](technical-demos/ide.ipynb)\n",
    "- [Jupyter with symbolic math](technical-demos/sympy.ipynb)\n",
    "- [Jupyter with graphs - Plotly](technical-demos/plotly.ipynb)\n",
    "- [Jupyter with interactivity - IPyWidgets](technical-demos/ipywidgets.ipynb)\n",
    "- [Jupyter with 3D-simulations - IPyVolume](technical-demos/ipyvolume.ipynb)\n",
    "- [MyBinder.org - Temporary free no-login hosting](technical-demos/mybinder.ipynb)\n",
    "- [notebooks.azure.com - Free hosting](technical-demos/azure.ipynb)\n",
    "\n",
    "#### Techincal demos for teachers with access to a JupyterHub\n",
    "- [NbGitPuller](technical-demos/nbgitpuller.ipynb)\n",
    "\n",
    "#### Technical demos for administrators\n",
    "- [JupyterHub](technical-demos/jupyterhub.ipynb)\n",
    "- [Docker](technical-demos/docker.ipynb)"
   ]
  },
  {
   "cell_type": "markdown",
   "metadata": {},
   "source": [
    "## Appendix\n",
    "\n",
    "#### FAQ\n",
    "\n",
    "#### Contribute\n",
    "Familiar with [GitHub](https://github.com)? You can communicate potential improvents by creating an _Issue_ (easy) or make an improvement yourself and submitting a _Pull Request_ (advanced) at [this guides GitHub repository](https://github.com/consideRatio/intro-to-jupyter-for-teachers)."
   ]
  },
  {
   "cell_type": "code",
   "execution_count": null,
   "metadata": {},
   "outputs": [],
   "source": []
  }
 ],
 "metadata": {
  "kernelspec": {
   "display_name": "Python 3",
   "language": "python",
   "name": "python3"
  },
  "language_info": {
   "codemirror_mode": {
    "name": "ipython",
    "version": 3
   },
   "file_extension": ".py",
   "mimetype": "text/x-python",
   "name": "python",
   "nbconvert_exporter": "python",
   "pygments_lexer": "ipython3",
   "version": "3.6.2"
  }
 },
 "nbformat": 4,
 "nbformat_minor": 2
}
