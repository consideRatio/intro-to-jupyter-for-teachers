{
 "cells": [
  {
   "cell_type": "markdown",
   "metadata": {},
   "source": [
    "# MyBinder\n",
    "\n",
    "## About\n",
    "A free service that let users run Jupyter Notebooks found on GitHub repositories. It is based on the [__BinderHub__](https://github.com/jupyterhub/binderhub) repository on GitHub.\n",
    "\n",
    "#### Keywords\n",
    "- Free\n",
    "- Notebook server\n",
    "- GitHub\n",
    "- Nonpersistent\n",
    "- BinderHub\n",
    "\n",
    "## Learn more\n",
    "[__mybinder.org__](https://mybinder.org)"
   ]
  },
  {
   "cell_type": "code",
   "execution_count": null,
   "metadata": {},
   "outputs": [],
   "source": []
  }
 ],
 "metadata": {
  "kernelspec": {
   "display_name": "Python 3",
   "language": "python",
   "name": "python3"
  },
  "language_info": {
   "codemirror_mode": {
    "name": "ipython",
    "version": 3
   },
   "file_extension": ".py",
   "mimetype": "text/x-python",
   "name": "python",
   "nbconvert_exporter": "python",
   "pygments_lexer": "ipython3",
   "version": "3.6.2"
  }
 },
 "nbformat": 4,
 "nbformat_minor": 2
}
