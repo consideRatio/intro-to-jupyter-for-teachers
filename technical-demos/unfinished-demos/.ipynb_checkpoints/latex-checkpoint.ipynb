{
 "cells": [
  {
   "cell_type": "markdown",
   "metadata": {},
   "source": [
    "# LaTeX\n",
    "## About\n",
    "LaTeX allows you to write mathematical exressions like equality below. Select this cell and press enter to see the LaTeX expression representing the equality.\n",
    "\n",
    "$$\\sum_{n=1}^{\\infty} \\frac{1}{n^2} = \\frac{\\pi^2}{6}$$\n",
    "\n",
    "#### Keywords\n",
    "- Mathematics\n",
    "- Formatting\n",
    "\n",
    "## Tutorial\n",
    "TODO: For now, google latex guides."
   ]
  },
  {
   "cell_type": "code",
   "execution_count": null,
   "metadata": {
    "collapsed": true
   },
   "outputs": [],
   "source": []
  }
 ],
 "metadata": {
  "kernelspec": {
   "display_name": "Python 3",
   "language": "python",
   "name": "python3"
  },
  "language_info": {
   "codemirror_mode": {
    "name": "ipython",
    "version": 3
   },
   "file_extension": ".py",
   "mimetype": "text/x-python",
   "name": "python",
   "nbconvert_exporter": "python",
   "pygments_lexer": "ipython3",
   "version": "3.6.1"
  }
 },
 "nbformat": 4,
 "nbformat_minor": 2
}
