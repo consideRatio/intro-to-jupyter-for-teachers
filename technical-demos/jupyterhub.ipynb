{
 "cells": [
  {
   "cell_type": "markdown",
   "metadata": {},
   "source": [
    "# JupyterHub\n",
    "## About\n",
    "JupyterHub can help a group of people run Jupyter Notebooks without installing Jupyter themselves. If you have not installed Jupyter yourself and can run code, then you are probably using a JupterHub right now.\n",
    "\n",
    "It is possible to run JupyterHub on a single server (VPS) or on mutiple servers (Cloud) which scales well with many users. Currently, setting up and running JupyterHub on a server requires a lot of know-how or a serious time investment.\n",
    "\n",
    "#### Keywords\n",
    "- Open source\n",
    "- [OAuth](https://oauth.net/)\n",
    "- [Docker](https://www.docker.com/)\n",
    "- [Kubernetes](https://kubernetes.io/)\n",
    "- [Helm](https://github.com/kubernetes/helm)\n",
    "- [VPS](https://en.wikipedia.org/wiki/Virtual_private_server)\n",
    "- Cloud\n",
    "\n",
    "## Learn more\n",
    "- [A guide to host a JupyterHub on the cloud](https://zero-to-jupyterhub.readthedocs.io/)\n",
    "- [How JupyterHub Tamed Big Science - Cholia, Thomas, Canon (Lawrence Berkeley National Laboratory)](https://www.youtube.com/watch?v=m3LFm22Om60&list=PL055Epbe6d5aP6Ru42r7hk68GTSaclYgi&index=32)\n",
    "- [Managing a 1,000+ Student JupyterHub without Losing Your Sanity](https://www.youtube.com/watch?v=ivswAxysfTk&list=PL055Epbe6d5aP6Ru42r7hk68GTSaclYgi&index=38)\n",
    "- [JupyterHub: A Roadmap of Recent Developments and Future Directions](https://www.youtube.com/watch?v=hgkYbb6aEP4&list=PL055Epbe6d5aP6Ru42r7hk68GTSaclYgi&index=44)"
   ]
  }
 ],
 "metadata": {
  "kernelspec": {
   "display_name": "Python 3",
   "language": "python",
   "name": "python3"
  },
  "language_info": {
   "codemirror_mode": {
    "name": "ipython",
    "version": 3
   },
   "file_extension": ".py",
   "mimetype": "text/x-python",
   "name": "python",
   "nbconvert_exporter": "python",
   "pygments_lexer": "ipython3",
   "version": "3.6.2"
  }
 },
 "nbformat": 4,
 "nbformat_minor": 2
}
