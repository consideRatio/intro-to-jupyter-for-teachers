{
 "cells": [
  {
   "cell_type": "markdown",
   "metadata": {},
   "source": [
    "# NbGitPuller\n",
    "## About\n",
    "NbGitPuller can enable a JupyterHub to fetch specific content from GitHub based on a webb address. So if a teacher wants all students to work on something specific, the teacher simply provides the students with a certain link.\n",
    "\n",
    "#### Keywords\n",
    "- Jupyter Notebook Distribution\n",
    "- GitHub\n",
    "\n",
    "## Learn more\n",
    "- [__NbGitPuller GitHub Repository__](https://github.com/data-8/nbgitpuller)"
   ]
  }
 ],
 "metadata": {
  "kernelspec": {
   "display_name": "Python 3",
   "language": "python",
   "name": "python3"
  },
  "language_info": {
   "codemirror_mode": {
    "name": "ipython",
    "version": 3
   },
   "file_extension": ".py",
   "mimetype": "text/x-python",
   "name": "python",
   "nbconvert_exporter": "python",
   "pygments_lexer": "ipython3",
   "version": "3.6.2"
  }
 },
 "nbformat": 4,
 "nbformat_minor": 2
}
