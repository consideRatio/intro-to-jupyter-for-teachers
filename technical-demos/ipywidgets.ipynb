{
 "cells": [
  {
   "cell_type": "markdown",
   "metadata": {},
   "source": [
    "# IPyWidgets\n",
    "## Tutorial\n",
    "\n",
    "It is easy to follow along the tutorial using the following.\n",
    "\n",
    "- [__BinderHub @ MyBinder.org__](https://mybinder.org/v2/gh/jupyter-widgets/ipywidgets/master?filepath=docs/source/examples/Index.ipynb)\n",
    "- [__NbGitPuller @ consideratio.se__](https://consideratio.se/hub/user-redirect/git-pull?repo=https://github.com/jupyter-widgets/ipywidgets&subPath=docs/source/examples/Index.ipynb)"
   ]
  },
  {
   "cell_type": "code",
   "execution_count": 29,
   "metadata": {},
   "outputs": [
    {
     "data": {
      "image/jpeg": "[encoded data removed]",
      "text/html": [
       "\n",
       "        <iframe\n",
       "            width=\"400\"\n",
       "            height=\"300\"\n",
       "            src=\"https://www.youtube.com/embed/eWzY2nGfkXk?start=80\"\n",
       "            frameborder=\"0\"\n",
       "            allowfullscreen\n",
       "        ></iframe>\n",
       "        "
      ],
      "text/plain": [
       "<IPython.lib.display.YouTubeVideo at 0x7faa10cc75f8>"
      ]
     },
     "execution_count": 29,
     "metadata": {},
     "output_type": "execute_result"
    }
   ],
   "source": [
    "# Too long? Make sure to watch at least 1:20 to 5:07\n",
    "\n",
    "# The source files are available at...\n",
    "# https://github.com/jupyter-widgets/ipywidgets/blob/master/docs/source/examples/Index.ipynb\n",
    "from IPython.display import YouTubeVideo; YouTubeVideo('eWzY2nGfkXk', start=80)"
   ]
  },
  {
   "cell_type": "code",
   "execution_count": null,
   "metadata": {},
   "outputs": [],
   "source": []
  }
 ],
 "metadata": {
  "kernelspec": {
   "display_name": "Python 3",
   "language": "python",
   "name": "python3"
  },
  "language_info": {
   "codemirror_mode": {
    "name": "ipython",
    "version": 3
   },
   "file_extension": ".py",
   "mimetype": "text/x-python",
   "name": "python",
   "nbconvert_exporter": "python",
   "pygments_lexer": "ipython3",
   "version": "3.6.2"
  }
 },
 "nbformat": 4,
 "nbformat_minor": 2
}
