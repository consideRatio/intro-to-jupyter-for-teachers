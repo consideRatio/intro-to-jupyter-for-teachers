{
 "cells": [
  {
   "cell_type": "markdown",
   "metadata": {},
   "source": [
    "# Jupyter as an IDE\n",
    "\"An Integrated Development Environment (IDE) is a software application that provides comprehensive facilities to computer programmers for software development.\""
   ]
  },
  {
   "cell_type": "markdown",
   "metadata": {},
   "source": [
    "## Code completion\n",
    "\n",
    "Place the writing cursor after num and press `Tab` to find out what could be imported."
   ]
  },
  {
   "cell_type": "code",
   "execution_count": null,
   "metadata": {},
   "outputs": [],
   "source": [
    "import num"
   ]
  },
  {
   "cell_type": "markdown",
   "metadata": {},
   "source": [
    "## Debugging\n",
    "\n",
    "Get information by writing a questionmark after something"
   ]
  },
  {
   "cell_type": "code",
   "execution_count": 14,
   "metadata": {},
   "outputs": [],
   "source": [
    "import numpy\n",
    "numpy.exp?"
   ]
  },
  {
   "cell_type": "markdown",
   "metadata": {},
   "source": [
    "## Terminal access\n",
    "You have terminal access. It can help you\n",
    "- install a python package\n",
    "- download a dataset\n",
    "- etc..."
   ]
  },
  {
   "cell_type": "code",
   "execution_count": 21,
   "metadata": {},
   "outputs": [
    {
     "name": "stdout",
     "output_type": "stream",
     "text": [
      "Requirement already satisfied: sklearn in /home/erik/anaconda3/lib/python3.6/site-packages\r\n",
      "Requirement already satisfied: scikit-learn in /home/erik/anaconda3/lib/python3.6/site-packages (from sklearn)\r\n"
     ]
    }
   ],
   "source": [
    "!pip install sklearn"
   ]
  },
  {
   "cell_type": "code",
   "execution_count": 22,
   "metadata": {},
   "outputs": [
    {
     "name": "stdout",
     "output_type": "stream",
     "text": [
      "--2017-11-26 20:34:10--  http://archive.ics.uci.edu/ml/machine-learning-databases/iris/iris.data\n",
      "Resolving archive.ics.uci.edu (archive.ics.uci.edu)... 128.195.10.249\n",
      "Connecting to archive.ics.uci.edu (archive.ics.uci.edu)|128.195.10.249|:80... connected.\n",
      "HTTP request sent, awaiting response... 200 OK\n",
      "Length: 4551 (4,4K) [text/plain]\n",
      "Saving to: ‘iris.data.2’\n",
      "\n",
      "iris.data.2         100%[===================>]   4,44K  --.-KB/s    in 0,001s  \n",
      "\n",
      "2017-11-26 20:34:12 (6,40 MB/s) - ‘iris.data.2’ saved [4551/4551]\n",
      "\n",
      "--2017-11-26 20:34:12--  http://archive.ics.uci.edu/ml/machine-learning-databases/iris/iris.names\n",
      "Resolving archive.ics.uci.edu (archive.ics.uci.edu)... 128.195.10.249\n",
      "Connecting to archive.ics.uci.edu (archive.ics.uci.edu)|128.195.10.249|:80... connected.\n",
      "HTTP request sent, awaiting response... 200 OK\n",
      "Length: 2998 (2,9K) [text/plain]\n",
      "Saving to: ‘iris.names.1’\n",
      "\n",
      "iris.names.1        100%[===================>]   2,93K  --.-KB/s    in 0,001s  \n",
      "\n",
      "2017-11-26 20:34:13 (3,45 MB/s) - ‘iris.names.1’ saved [2998/2998]\n",
      "\n"
     ]
    }
   ],
   "source": [
    "!wget http://archive.ics.uci.edu/ml/machine-learning-databases/iris/iris.data\n",
    "!wget http://archive.ics.uci.edu/ml/machine-learning-databases/iris/iris.names    "
   ]
  },
  {
   "cell_type": "code",
   "execution_count": 23,
   "metadata": {},
   "outputs": [
    {
     "name": "stdout",
     "output_type": "stream",
     "text": [
      "1. Title: Iris Plants Database\r\n",
      "\tUpdated Sept 21 by C.Blake - Added discrepency information\r\n",
      "\r\n",
      "2. Sources:\r\n",
      "     (a) Creator: R.A. Fisher\r\n",
      "     (b) Donor: Michael Marshall (MARSHALL%PLU@io.arc.nasa.gov)\r\n",
      "     (c) Date: July, 1988\r\n",
      "\r\n",
      "3. Past Usage:\r\n",
      "   - Publications: too many to mention!!!  Here are a few.\r\n",
      "   1. Fisher,R.A. \"The use of multiple measurements in taxonomic problems\"\r\n",
      "      Annual Eugenics, 7, Part II, 179-188 (1936); also in \"Contributions\r\n",
      "      to Mathematical Statistics\" (John Wiley, NY, 1950).\r\n",
      "   2. Duda,R.O., & Hart,P.E. (1973) Pattern Classification and Scene Analysis.\r\n",
      "      (Q327.D83) John Wiley & Sons.  ISBN 0-471-22361-1.  See page 218.\r\n",
      "   3. Dasarathy, B.V. (1980) \"Nosing Around the Neighborhood: A New System\r\n",
      "      Structure and Classification Rule for Recognition in Partially Exposed\r\n",
      "      Environments\".  IEEE Transactions on Pattern Analysis and Machine\r\n",
      "      Intelligence, Vol. PAMI-2, No. 1, 67-71.\r\n",
      "      -- Results:\r\n",
      "         -- very low misclassification rates (0% for the setosa class)\r\n",
      "   4. Gates, G.W. (1972) \"The Reduced Nearest Neighbor Rule\".  IEEE \r\n",
      "      Transactions on Information Theory, May 1972, 431-433.\r\n",
      "      -- Results:\r\n",
      "         -- very low misclassification rates again\r\n",
      "   5. See also: 1988 MLC Proceedings, 54-64.  Cheeseman et al's AUTOCLASS II\r\n",
      "      conceptual clustering system finds 3 classes in the data.\r\n",
      "\r\n",
      "4. Relevant Information:\r\n",
      "   --- This is perhaps the best known database to be found in the pattern\r\n",
      "       recognition literature.  Fisher's paper is a classic in the field\r\n",
      "       and is referenced frequently to this day.  (See Duda & Hart, for\r\n",
      "       example.)  The data set contains 3 classes of 50 instances each,\r\n",
      "       where each class refers to a type of iris plant.  One class is\r\n",
      "       linearly separable from the other 2; the latter are NOT linearly\r\n",
      "       separable from each other.\r\n",
      "   --- Predicted attribute: class of iris plant.\r\n",
      "   --- This is an exceedingly simple domain.\r\n",
      "   --- This data differs from the data presented in Fishers article\r\n",
      "\t(identified by Steve Chadwick,  spchadwick@espeedaz.net )\r\n",
      "\tThe 35th sample should be: 4.9,3.1,1.5,0.2,\"Iris-setosa\"\r\n",
      "\twhere the error is in the fourth feature.\r\n",
      "\tThe 38th sample: 4.9,3.6,1.4,0.1,\"Iris-setosa\"\r\n",
      "\twhere the errors are in the second and third features.  \r\n",
      "\r\n",
      "5. Number of Instances: 150 (50 in each of three classes)\r\n",
      "\r\n",
      "6. Number of Attributes: 4 numeric, predictive attributes and the class\r\n",
      "\r\n",
      "7. Attribute Information:\r\n",
      "   1. sepal length in cm\r\n",
      "   2. sepal width in cm\r\n",
      "   3. petal length in cm\r\n",
      "   4. petal width in cm\r\n",
      "   5. class: \r\n",
      "      -- Iris Setosa\r\n",
      "      -- Iris Versicolour\r\n",
      "      -- Iris Virginica\r\n",
      "\r\n",
      "8. Missing Attribute Values: None\r\n",
      "\r\n",
      "Summary Statistics:\r\n",
      "\t         Min  Max   Mean    SD   Class Correlation\r\n",
      "   sepal length: 4.3  7.9   5.84  0.83    0.7826   \r\n",
      "    sepal width: 2.0  4.4   3.05  0.43   -0.4194\r\n",
      "   petal length: 1.0  6.9   3.76  1.76    0.9490  (high!)\r\n",
      "    petal width: 0.1  2.5   1.20  0.76    0.9565  (high!)\r\n",
      "\r\n",
      "9. Class Distribution: 33.3% for each of 3 classes.\r\n"
     ]
    }
   ],
   "source": [
    "!cat iris.names"
   ]
  },
  {
   "cell_type": "code",
   "execution_count": null,
   "metadata": {},
   "outputs": [],
   "source": []
  }
 ],
 "metadata": {
  "kernelspec": {
   "display_name": "Python 3",
   "language": "python",
   "name": "python3"
  },
  "language_info": {
   "codemirror_mode": {
    "name": "ipython",
    "version": 3
   },
   "file_extension": ".py",
   "mimetype": "text/x-python",
   "name": "python",
   "nbconvert_exporter": "python",
   "pygments_lexer": "ipython3",
   "version": "3.6.2"
  }
 },
 "nbformat": 4,
 "nbformat_minor": 2
}
